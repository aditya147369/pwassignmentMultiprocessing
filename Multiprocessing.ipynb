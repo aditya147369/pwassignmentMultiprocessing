{
 "cells": [
  {
   "cell_type": "markdown",
   "id": "29703587-ef82-4fa1-95aa-de0d3846dceb",
   "metadata": {},
   "source": [
    "Q1. What is multiprocessing in python? Why is it useful?"
   ]
  },
  {
   "cell_type": "markdown",
   "id": "8997561d-bf2c-48d5-9c47-bd93233ce67b",
   "metadata": {},
   "source": [
    "Ans - Multiprocessing in Python is a powerful technique that enables the execution of multiple processes simultaneously, leveraging the full potential of multi-core processors. Unlike threading, which shares the same memory space and can be hindered by the Global Interpreter Lock (GIL), multiprocessing creates separate processes, each with its own memory space and interpreter. This allows for true parallel execution, where multiple tasks can be distributed across different cores, leading to significant performance improvements, especially for CPU-bound tasks. Multiprocessing is particularly useful when dealing with computationally intensive operations like data analysis, image processing, or simulations, where parallel processing can drastically reduce execution time."
   ]
  },
  {
   "cell_type": "markdown",
   "id": "e822fadf-f251-4b57-a533-ecab7d8dd500",
   "metadata": {},
   "source": [
    "Q2. What are the differences between multiprocessing and multithreading?"
   ]
  },
  {
   "cell_type": "markdown",
   "id": "a06b940b-913a-4878-a15d-17c48cf7b62d",
   "metadata": {},
   "source": [
    "Ans - 1] Multiprocessing and multithreading differ in resource management, impact of the Global Interpreter Lock (GIL), overhead, communication, and use cases. In multiprocessing, each process has its own resources and memory space, bypassing GIL limitations for true parallel execution. This is ideal for CPU-bound tasks, but creating and managing processes incurs more overhead. Inter-process communication is also slower due to mechanisms like pipes or queues.   \n",
    "\n",
    "2] Multithreading, on the other hand, allows threads to share memory within a process, making data sharing easier and communication faster. However, the GIL limits parallel execution for CPU-bound tasks. Threads are lightweight and efficient, ideal for I/O-bound tasks and frequent context switching. "
   ]
  },
  {
   "cell_type": "markdown",
   "id": "c3c039fa-8fb7-48e1-8484-95b8568fa88a",
   "metadata": {},
   "source": [
    "Q3. Write a python code to create a process using the multiprocessing module."
   ]
  },
  {
   "cell_type": "code",
   "execution_count": 12,
   "id": "3c540d47-6a57-4552-acee-8acc8cf80962",
   "metadata": {},
   "outputs": [
    {
     "name": "stdout",
     "output_type": "stream",
     "text": [
      "Process 0 is running\n",
      "Process 1 is running\n",
      "Process 2 is running\n",
      "All processes finished\n"
     ]
    }
   ],
   "source": [
    "import multiprocessing\n",
    "\n",
    "def task(name):\n",
    "    \"\"\"Function to be executed in a separate process.\"\"\"\n",
    "    print(f\"Process {name} is running\")\n",
    "\n",
    "if __name__ == '__main__':\n",
    "    processes = []\n",
    "    for i in range(3):\n",
    "        p = multiprocessing.Process(target=task, args=(i,))\n",
    "        p.start()\n",
    "        processes.append(p)\n",
    "\n",
    "    for p in processes:\n",
    "        p.join() \n",
    "\n",
    "    print(\"All processes finished\")\n"
   ]
  },
  {
   "cell_type": "markdown",
   "id": "e4fb2b01-4ff6-4ac1-bd50-7017fce4785a",
   "metadata": {},
   "source": [
    "Q4. What is a multiprocessing pool in python? Why is it used?"
   ]
  },
  {
   "cell_type": "markdown",
   "id": "40602bc6-1676-4d4b-a437-b282997c40a8",
   "metadata": {},
   "source": [
    "Ans - A multiprocessing pool in Python is a convenient way to manage a group of worker processes for parallel task execution. It simplifies the creation, distribution, and synchronization of tasks across multiple processes. A pool offers a more efficient and structured approach compared to manually creating and managing individual processes. By maintaining a pool of reusable processes, it avoids the overhead of repeatedly creating new processes for each task, leading to improved performance. Additionally, pools provide mechanisms for distributing tasks evenly among workers, handling results, and limiting the maximum number of concurrent processes. Overall, using a pool can streamline parallel programming and make it easier to leverage the benefits of multiprocessing in Python."
   ]
  },
  {
   "cell_type": "markdown",
   "id": "ca02d18d-fd22-421d-b190-efa1646f6c77",
   "metadata": {},
   "source": [
    "Q5. How can we create a pool of worker processes in python using the multiprocessing module?"
   ]
  },
  {
   "cell_type": "markdown",
   "id": "4af01aa8-24ef-41ad-b762-558cd9e113e2",
   "metadata": {},
   "source": [
    "Ans - 1] Import multiprocessing: Enable working with processes.\n",
    "\n",
    "2] Define task(x): Create a function for each worker to execute.\n",
    "\n",
    "3] if name == 'main': Safeguard for proper execution.\n",
    "\n",
    "4] Create a Pool: Set up a group of worker processes.\n",
    "\n",
    "5] with Context Manager: Ensure proper cleanup of the Pool.\n",
    "\n",
    "6] pool.map(task, [1, 2, 3, 4, 5]):\n",
    "\n",
    "a. Divide inputs into chunks.\n",
    "\n",
    "b. Assign chunks to worker processes.\n",
    "\n",
    "c. Execute tasks in parallel.\n",
    "\n",
    "d. Collect results from all workers.\n",
    "\n",
    "7] Print Results: Access and use the results as needed."
   ]
  },
  {
   "cell_type": "markdown",
   "id": "adfd71c1-0d9f-490a-b779-12ce4ae3090a",
   "metadata": {},
   "source": [
    "Q6. Write a python program to create 4 processes, each process should print a different number using the\n",
    "multiprocessing module in python."
   ]
  },
  {
   "cell_type": "code",
   "execution_count": 13,
   "id": "e76dce71-623c-49da-ad67-ff89e2425e14",
   "metadata": {},
   "outputs": [
    {
     "name": "stdout",
     "output_type": "stream",
     "text": [
      "Process Process-47 printing: 100\n",
      "Process Process-48 printing: 200\n",
      "Process Process-49 printing: 300\n",
      "Process Process-50 printing: 400\n",
      "All processes completed\n"
     ]
    }
   ],
   "source": [
    "import multiprocessing\n",
    "\n",
    "def print_number(num):\n",
    "    \"\"\"Function to print a number in a separate process.\"\"\"\n",
    "    print(f\"Process {multiprocessing.current_process().name} printing: {num}\")\n",
    "\n",
    "if __name__ == '__main__':\n",
    "    numbers = [100, 200, 300, 400]  \n",
    "\n",
    "    processes = []\n",
    "    for num in numbers:\n",
    "        p = multiprocessing.Process(target=print_number, args=(num,)) \n",
    "        p.start()                 \n",
    "        processes.append(p)        \n",
    "\n",
    "    for p in processes:\n",
    "        p.join()                  \n",
    "\n",
    "    print(\"All processes completed\")\n"
   ]
  },
  {
   "cell_type": "code",
   "execution_count": null,
   "id": "9f264627-b2c2-403f-9c86-81aa1b1732a0",
   "metadata": {},
   "outputs": [],
   "source": []
  },
  {
   "cell_type": "code",
   "execution_count": null,
   "id": "9dde384d-3e00-44b9-9cfd-f2c44516a6d4",
   "metadata": {},
   "outputs": [],
   "source": []
  }
 ],
 "metadata": {
  "kernelspec": {
   "display_name": "Python 3 (ipykernel)",
   "language": "python",
   "name": "python3"
  },
  "language_info": {
   "codemirror_mode": {
    "name": "ipython",
    "version": 3
   },
   "file_extension": ".py",
   "mimetype": "text/x-python",
   "name": "python",
   "nbconvert_exporter": "python",
   "pygments_lexer": "ipython3",
   "version": "3.10.8"
  }
 },
 "nbformat": 4,
 "nbformat_minor": 5
}
